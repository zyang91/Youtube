{
 "cells": [
  {
   "cell_type": "code",
   "execution_count": 1,
   "id": "17f41b18-9384-466b-b56b-1a6e687e2bdd",
   "metadata": {},
   "outputs": [],
   "source": [
    "import tkinter"
   ]
  },
  {
   "cell_type": "code",
   "execution_count": 2,
   "id": "450ed69b-5dad-40ab-88d4-713c84067ccf",
   "metadata": {},
   "outputs": [],
   "source": [
    "import customtkinter"
   ]
  },
  {
   "cell_type": "code",
   "execution_count": 7,
   "id": "a8ebfab9-e2a0-485b-8386-8b801596bfec",
   "metadata": {},
   "outputs": [],
   "source": [
    "from pytube import YouTube"
   ]
  },
  {
   "cell_type": "code",
   "execution_count": 8,
   "id": "1fa0840d-070b-4f93-983c-4198661dbbec",
   "metadata": {},
   "outputs": [],
   "source": [
    " yt = YouTube('http://youtube.com/watch?v=2lAe1cqCOXo')"
   ]
  },
  {
   "cell_type": "code",
   "execution_count": 9,
   "id": "4529b443-314a-4162-8bb0-93131d2315aa",
   "metadata": {},
   "outputs": [
    {
     "data": {
      "text/plain": [
       "'YouTube Rewind 2019: For the Record | #YouTubeRewind'"
      ]
     },
     "execution_count": 9,
     "metadata": {},
     "output_type": "execute_result"
    }
   ],
   "source": [
    "yt.title"
   ]
  },
  {
   "cell_type": "code",
   "execution_count": 10,
   "id": "89a25e2f-4106-4284-9635-efd350008c78",
   "metadata": {},
   "outputs": [],
   "source": [
    "yt1= YouTube('https://www.youtube.com/watch?v=YZcl5MTPdiI')"
   ]
  },
  {
   "cell_type": "code",
   "execution_count": 11,
   "id": "4fdd2437-8a49-4243-914e-c60a9661e727",
   "metadata": {},
   "outputs": [
    {
     "data": {
      "text/plain": [
       "'北京大学哲学系教授杨立华讲座：《孔子与老子》精彩无比 P1 老子与孔子 精品课 - 北京大学 Peking University'"
      ]
     },
     "execution_count": 11,
     "metadata": {},
     "output_type": "execute_result"
    }
   ],
   "source": [
    "yt1.title"
   ]
  },
  {
   "cell_type": "code",
   "execution_count": 12,
   "id": "1693040c-05af-446e-b5da-ab924dcec902",
   "metadata": {},
   "outputs": [
    {
     "data": {
      "text/plain": [
       "'https://i.ytimg.com/vi/YZcl5MTPdiI/hq720.jpg?sqp=-oaymwEmCIAKENAF8quKqQMa8AEB-AHUBoAC4AOKAgwIABABGC0gZShNMA8=&rs=AOn4CLAvFCAMBrCsFe6nUqXthSVarja81w'"
      ]
     },
     "execution_count": 12,
     "metadata": {},
     "output_type": "execute_result"
    }
   ],
   "source": [
    "yt1.thumbnail_url"
   ]
  },
  {
   "cell_type": "code",
   "execution_count": 14,
   "id": "e282dfc8-7ad0-4e68-87c9-c461998b11c9",
   "metadata": {},
   "outputs": [
    {
     "data": {
      "text/plain": [
       "{}"
      ]
     },
     "execution_count": 14,
     "metadata": {},
     "output_type": "execute_result"
    }
   ],
   "source": [
    "yt1.captions"
   ]
  },
  {
   "cell_type": "code",
   "execution_count": 15,
   "id": "13af0cd7-85c6-48cd-aa5f-1c79c21d246f",
   "metadata": {},
   "outputs": [
    {
     "data": {
      "text/plain": [
       "{}"
      ]
     },
     "execution_count": 15,
     "metadata": {},
     "output_type": "execute_result"
    }
   ],
   "source": [
    "yt.captions"
   ]
  },
  {
   "cell_type": "code",
   "execution_count": 16,
   "id": "57ab663b-2bf6-4e62-9d5c-0560471962cd",
   "metadata": {},
   "outputs": [],
   "source": [
    "yt = YouTube('http://youtube.com/watch?v=2lAe1cqCOXo')"
   ]
  },
  {
   "cell_type": "code",
   "execution_count": 17,
   "id": "70988db6-64e4-476e-9ca6-9268963dc2b2",
   "metadata": {},
   "outputs": [
    {
     "data": {
      "text/plain": [
       "{}"
      ]
     },
     "execution_count": 17,
     "metadata": {},
     "output_type": "execute_result"
    }
   ],
   "source": [
    "yt.captions"
   ]
  },
  {
   "cell_type": "code",
   "execution_count": null,
   "id": "1d9545b4-d899-4257-8f73-7411c496b223",
   "metadata": {},
   "outputs": [],
   "source": []
  }
 ],
 "metadata": {
  "kernelspec": {
   "display_name": "Python 3 (ipykernel)",
   "language": "python",
   "name": "python3"
  },
  "language_info": {
   "codemirror_mode": {
    "name": "ipython",
    "version": 3
   },
   "file_extension": ".py",
   "mimetype": "text/x-python",
   "name": "python",
   "nbconvert_exporter": "python",
   "pygments_lexer": "ipython3",
   "version": "3.11.5"
  }
 },
 "nbformat": 4,
 "nbformat_minor": 5
}
